{
 "cells": [
  {
   "cell_type": "code",
   "execution_count": 1,
   "id": "fb0edb01",
   "metadata": {},
   "outputs": [
    {
     "name": "stdout",
     "output_type": "stream",
     "text": [
      "Collecting pygame\n",
      "  Downloading pygame-2.5.2-cp39-cp39-win_amd64.whl (10.8 MB)\n",
      "Installing collected packages: pygame\n",
      "Successfully installed pygame-2.5.2\n"
     ]
    }
   ],
   "source": [
    "!pip install pygame"
   ]
  },
  {
   "cell_type": "code",
   "execution_count": 1,
   "id": "68cf6e8a",
   "metadata": {},
   "outputs": [
    {
     "name": "stdout",
     "output_type": "stream",
     "text": [
      "pygame 2.5.2 (SDL 2.28.3, Python 3.9.12)\n",
      "Hello from the pygame community. https://www.pygame.org/contribute.html\n"
     ]
    }
   ],
   "source": [
    "import pygame\n",
    "import os"
   ]
  },
  {
   "cell_type": "code",
   "execution_count": 16,
   "id": "bcfa9606",
   "metadata": {},
   "outputs": [],
   "source": [
    "import pygame\n",
    "import os\n",
    "import json\n",
    "\n",
    "# Pygame hasieratu\n",
    "pygame.init()\n",
    "\n",
    "# Irudiak karpeta batetik irakurri eta gordetzeko funtzioa\n",
    "def load_images(folder_path):\n",
    "    images = []\n",
    "    for filename in os.listdir(folder_path):\n",
    "        if filename.lower().endswith(('.png', '.jpg', '.jpeg', '.gif')):\n",
    "            images.append((filename, pygame.image.load(os.path.join(folder_path, filename))))\n",
    "    return images\n",
    "\n",
    "# Irudien karpeta adierazi eta kargatu\n",
    "image_folder = \"images\"\n",
    "image_list = load_images(image_folder)\n",
    "total_images = len(image_list)\n",
    "current_image_index = 0\n",
    "\n",
    "# Pantailaren tamaina adierazi (irudien resolution ikusi eta aldatu)\n",
    "window_width = 1765\n",
    "window_height = 993\n",
    "screen = pygame.display.set_mode((window_width, window_height))\n",
    "\n",
    "# Irudien tamaina eskalatzeko funtzioa\n",
    "def calculate_scale_factor(image):\n",
    "    image_width, image_height = image.get_size()\n",
    "    return min(window_width / image_width, window_height / image_height)\n",
    "\n",
    "# Irudiak eguneratu/aldatzeko funtzioa (EZKER/ESKUBI FLETXAK ERABILI ALDATZEKO IRUDIA)\n",
    "def update_display():\n",
    "    screen.fill((255, 255, 255))\n",
    "\n",
    "    scaled_image = pygame.transform.scale(image_list[current_image_index][1],\n",
    "                                          (int(image_list[current_image_index][1].get_width() * calculate_scale_factor(image_list[current_image_index][1])),\n",
    "                                           int(image_list[current_image_index][1].get_height() * calculate_scale_factor(image_list[current_image_index][1]))))\n",
    "    screen.blit(scaled_image, (0, 0))\n",
    "    pygame.display.update()\n",
    "\n",
    "# botoien koordenatuak gordeko diren JSON fitxategia sortu\n",
    "json_filename = \"button_coordinates.json\"\n",
    "button_coordinates_data = {}\n",
    "\n",
    "top_left_coordinates = None\n",
    "\n",
    "font = pygame.font.Font(None, 36)\n",
    "instruction_text = font.render(\"Change gamescreens using LEFT/RIGHT ARROWS. Firstly, click the TOP-LEFT CORNER of a button, then click the BOTTOM-RIGHT CORNER of it.\", True, (255, 0, 0))\n",
    "\n",
    "running = True\n",
    "while running:\n",
    "    for event in pygame.event.get():\n",
    "        if event.type == pygame.QUIT:\n",
    "            running = False\n",
    "        elif event.type == pygame.MOUSEBUTTONDOWN:\n",
    "            if top_left_coordinates is None:\n",
    "                # botoiaren goi ezker puntua gorde \n",
    "                x, y = event.pos\n",
    "                top_left_coordinates = (x, y)\n",
    "            else:\n",
    "                # botoiaren behe eskuin puntua gorde\n",
    "                x, y = event.pos\n",
    "                bottom_right_coordinates = (x, y)\n",
    "\n",
    "                # gorde botoiaren koordenatuak\n",
    "                if image_list[current_image_index][0] not in button_coordinates_data:\n",
    "                    button_coordinates_data[image_list[current_image_index][0]] = []\n",
    "\n",
    "                button_coordinates_data[image_list[current_image_index][0]].append({\n",
    "                    \"top_left\": {\"x\": top_left_coordinates[0], \"y\": top_left_coordinates[1]},\n",
    "                    \"bottom_right\": {\"x\": bottom_right_coordinates[0], \"y\": bottom_right_coordinates[1]}\n",
    "                })\n",
    "\n",
    "                # reset egin botoi berri bat gorde ahal izateko\n",
    "                top_left_coordinates = None\n",
    "\n",
    "        elif event.type == pygame.KEYDOWN:\n",
    "            if event.key == pygame.K_LEFT:  # Aurreko irudia\n",
    "                current_image_index = (current_image_index - 1) % total_images\n",
    "                update_display()\n",
    "            elif event.key == pygame.K_RIGHT:  # Hurrengo irudia\n",
    "                current_image_index = (current_image_index + 1) % total_images\n",
    "                update_display()\n",
    "\n",
    "    # Eguneratu irudia\n",
    "    update_display()\n",
    "    #Instrukzioak pantailan agertzeko\n",
    "    screen.blit(instruction_text, (20, 20))\n",
    "    pygame.display.flip()\n",
    "    \n",
    "# Gorde botoien koordenatuak json batean\n",
    "with open(json_filename, 'w') as json_file:\n",
    "    json.dump(button_coordinates_data, json_file, indent=2)\n",
    "\n",
    "pygame.quit()\n"
   ]
  },
  {
   "cell_type": "code",
   "execution_count": null,
   "id": "84560267",
   "metadata": {},
   "outputs": [],
   "source": []
  }
 ],
 "metadata": {
  "kernelspec": {
   "display_name": "Python 3 (ipykernel)",
   "language": "python",
   "name": "python3"
  },
  "language_info": {
   "codemirror_mode": {
    "name": "ipython",
    "version": 3
   },
   "file_extension": ".py",
   "mimetype": "text/x-python",
   "name": "python",
   "nbconvert_exporter": "python",
   "pygments_lexer": "ipython3",
   "version": "3.9.12"
  }
 },
 "nbformat": 4,
 "nbformat_minor": 5
}
